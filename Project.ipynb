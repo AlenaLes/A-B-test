{
 "cells": [
  {
   "cell_type": "code",
   "execution_count": 1,
   "metadata": {},
   "outputs": [],
   "source": [
    "import pandas as pd\n",
    "import seaborn as sns\n",
    "import matplotlib.pyplot as plt\n",
    "import numpy as np\n",
    "from scipy.stats import mannwhitneyu\n",
    "from scipy import stats\n",
    "from tqdm.auto import tqdm\n",
    "from scipy.stats import norm\n",
    "\n",
    "%matplotlib inline "
   ]
  },
  {
   "cell_type": "code",
   "execution_count": 2,
   "metadata": {},
   "outputs": [],
   "source": [
    "active_users    = pd.read_csv ('/mnt/HC_Volume_18315164/home-jupyter/jupyter-a-lesihina/Final_project/Проект_4_active_users.csv')\n",
    "groups          = pd.read_csv ('/mnt/HC_Volume_18315164/home-jupyter/jupyter-a-lesihina/Final_project/Проект_4_groups.csv')\n",
    "purchases       = pd.read_csv ('/mnt/HC_Volume_18315164/home-jupyter/jupyter-a-lesihina/Final_project/Проект_4_purchases.csv')"
   ]
  },
  {
   "cell_type": "code",
   "execution_count": 3,
   "metadata": {},
   "outputs": [
    {
     "data": {
      "text/html": [
       "<div>\n",
       "<style scoped>\n",
       "    .dataframe tbody tr th:only-of-type {\n",
       "        vertical-align: middle;\n",
       "    }\n",
       "\n",
       "    .dataframe tbody tr th {\n",
       "        vertical-align: top;\n",
       "    }\n",
       "\n",
       "    .dataframe thead th {\n",
       "        text-align: right;\n",
       "    }\n",
       "</style>\n",
       "<table border=\"1\" class=\"dataframe\">\n",
       "  <thead>\n",
       "    <tr style=\"text-align: right;\">\n",
       "      <th></th>\n",
       "      <th>user_id</th>\n",
       "      <th>country</th>\n",
       "      <th>platform</th>\n",
       "      <th>sex</th>\n",
       "    </tr>\n",
       "  </thead>\n",
       "  <tbody>\n",
       "    <tr>\n",
       "      <th>0</th>\n",
       "      <td>8029</td>\n",
       "      <td>Russia</td>\n",
       "      <td>ios</td>\n",
       "      <td>male</td>\n",
       "    </tr>\n",
       "    <tr>\n",
       "      <th>1</th>\n",
       "      <td>1735</td>\n",
       "      <td>Sweden</td>\n",
       "      <td>ios</td>\n",
       "      <td>male</td>\n",
       "    </tr>\n",
       "    <tr>\n",
       "      <th>2</th>\n",
       "      <td>7697</td>\n",
       "      <td>Russia</td>\n",
       "      <td>android</td>\n",
       "      <td>male</td>\n",
       "    </tr>\n",
       "    <tr>\n",
       "      <th>3</th>\n",
       "      <td>1421</td>\n",
       "      <td>Sweden</td>\n",
       "      <td>android</td>\n",
       "      <td>female</td>\n",
       "    </tr>\n",
       "    <tr>\n",
       "      <th>4</th>\n",
       "      <td>1704</td>\n",
       "      <td>Russia</td>\n",
       "      <td>ios</td>\n",
       "      <td>male</td>\n",
       "    </tr>\n",
       "    <tr>\n",
       "      <th>...</th>\n",
       "      <td>...</td>\n",
       "      <td>...</td>\n",
       "      <td>...</td>\n",
       "      <td>...</td>\n",
       "    </tr>\n",
       "    <tr>\n",
       "      <th>8336</th>\n",
       "      <td>2417</td>\n",
       "      <td>Sweden</td>\n",
       "      <td>ios</td>\n",
       "      <td>female</td>\n",
       "    </tr>\n",
       "    <tr>\n",
       "      <th>8337</th>\n",
       "      <td>3755</td>\n",
       "      <td>Russia</td>\n",
       "      <td>ios</td>\n",
       "      <td>male</td>\n",
       "    </tr>\n",
       "    <tr>\n",
       "      <th>8338</th>\n",
       "      <td>4594</td>\n",
       "      <td>Sweden</td>\n",
       "      <td>android</td>\n",
       "      <td>female</td>\n",
       "    </tr>\n",
       "    <tr>\n",
       "      <th>8339</th>\n",
       "      <td>7430</td>\n",
       "      <td>Sweden</td>\n",
       "      <td>ios</td>\n",
       "      <td>female</td>\n",
       "    </tr>\n",
       "    <tr>\n",
       "      <th>8340</th>\n",
       "      <td>2460</td>\n",
       "      <td>Russia</td>\n",
       "      <td>android</td>\n",
       "      <td>female</td>\n",
       "    </tr>\n",
       "  </tbody>\n",
       "</table>\n",
       "<p>8341 rows × 4 columns</p>\n",
       "</div>"
      ],
      "text/plain": [
       "      user_id country platform     sex\n",
       "0        8029  Russia      ios    male\n",
       "1        1735  Sweden      ios    male\n",
       "2        7697  Russia  android    male\n",
       "3        1421  Sweden  android  female\n",
       "4        1704  Russia      ios    male\n",
       "...       ...     ...      ...     ...\n",
       "8336     2417  Sweden      ios  female\n",
       "8337     3755  Russia      ios    male\n",
       "8338     4594  Sweden  android  female\n",
       "8339     7430  Sweden      ios  female\n",
       "8340     2460  Russia  android  female\n",
       "\n",
       "[8341 rows x 4 columns]"
      ]
     },
     "execution_count": 3,
     "metadata": {},
     "output_type": "execute_result"
    }
   ],
   "source": [
    "active_users"
   ]
  },
  {
   "cell_type": "code",
   "execution_count": 4,
   "metadata": {},
   "outputs": [
    {
     "name": "stdout",
     "output_type": "stream",
     "text": [
      "<class 'pandas.core.frame.DataFrame'>\n",
      "RangeIndex: 8341 entries, 0 to 8340\n",
      "Data columns (total 4 columns):\n",
      " #   Column    Non-Null Count  Dtype \n",
      "---  ------    --------------  ----- \n",
      " 0   user_id   8341 non-null   int64 \n",
      " 1   country   8341 non-null   object\n",
      " 2   platform  8341 non-null   object\n",
      " 3   sex       8341 non-null   object\n",
      "dtypes: int64(1), object(3)\n",
      "memory usage: 260.8+ KB\n"
     ]
    }
   ],
   "source": [
    "active_users.info ()"
   ]
  },
  {
   "attachments": {},
   "cell_type": "markdown",
   "metadata": {},
   "source": [
    "# Объединим все данные\n",
    "\n",
    "Объединим таблицу с **пользователями** и таблицу с заказами"
   ]
  },
  {
   "cell_type": "code",
   "execution_count": 5,
   "metadata": {},
   "outputs": [],
   "source": [
    "join_users_purchases = active_users[['user_id','country','platform','sex']].merge(purchases[['user_id','revenue']],\n",
    "                                                                                  how = 'left', on = 'user_id')"
   ]
  },
  {
   "cell_type": "code",
   "execution_count": 6,
   "metadata": {},
   "outputs": [],
   "source": [
    "all = join_users_purchases[['user_id','country','platform','sex','revenue']].merge(groups[['user_id','group']],\n",
    "                                                                                  how = 'left', on = 'user_id')"
   ]
  },
  {
   "cell_type": "code",
   "execution_count": 7,
   "metadata": {},
   "outputs": [
    {
     "data": {
      "text/html": [
       "<div>\n",
       "<style scoped>\n",
       "    .dataframe tbody tr th:only-of-type {\n",
       "        vertical-align: middle;\n",
       "    }\n",
       "\n",
       "    .dataframe tbody tr th {\n",
       "        vertical-align: top;\n",
       "    }\n",
       "\n",
       "    .dataframe thead th {\n",
       "        text-align: right;\n",
       "    }\n",
       "</style>\n",
       "<table border=\"1\" class=\"dataframe\">\n",
       "  <thead>\n",
       "    <tr style=\"text-align: right;\">\n",
       "      <th></th>\n",
       "      <th>user_id</th>\n",
       "      <th>country</th>\n",
       "      <th>platform</th>\n",
       "      <th>sex</th>\n",
       "      <th>revenue</th>\n",
       "      <th>group</th>\n",
       "    </tr>\n",
       "  </thead>\n",
       "  <tbody>\n",
       "    <tr>\n",
       "      <th>0</th>\n",
       "      <td>8029</td>\n",
       "      <td>Russia</td>\n",
       "      <td>ios</td>\n",
       "      <td>male</td>\n",
       "      <td>NaN</td>\n",
       "      <td>B</td>\n",
       "    </tr>\n",
       "    <tr>\n",
       "      <th>1</th>\n",
       "      <td>1735</td>\n",
       "      <td>Sweden</td>\n",
       "      <td>ios</td>\n",
       "      <td>male</td>\n",
       "      <td>NaN</td>\n",
       "      <td>B</td>\n",
       "    </tr>\n",
       "    <tr>\n",
       "      <th>2</th>\n",
       "      <td>7697</td>\n",
       "      <td>Russia</td>\n",
       "      <td>android</td>\n",
       "      <td>male</td>\n",
       "      <td>NaN</td>\n",
       "      <td>B</td>\n",
       "    </tr>\n",
       "    <tr>\n",
       "      <th>3</th>\n",
       "      <td>1421</td>\n",
       "      <td>Sweden</td>\n",
       "      <td>android</td>\n",
       "      <td>female</td>\n",
       "      <td>NaN</td>\n",
       "      <td>B</td>\n",
       "    </tr>\n",
       "    <tr>\n",
       "      <th>4</th>\n",
       "      <td>1704</td>\n",
       "      <td>Russia</td>\n",
       "      <td>ios</td>\n",
       "      <td>male</td>\n",
       "      <td>NaN</td>\n",
       "      <td>B</td>\n",
       "    </tr>\n",
       "    <tr>\n",
       "      <th>...</th>\n",
       "      <td>...</td>\n",
       "      <td>...</td>\n",
       "      <td>...</td>\n",
       "      <td>...</td>\n",
       "      <td>...</td>\n",
       "      <td>...</td>\n",
       "    </tr>\n",
       "    <tr>\n",
       "      <th>8336</th>\n",
       "      <td>2417</td>\n",
       "      <td>Sweden</td>\n",
       "      <td>ios</td>\n",
       "      <td>female</td>\n",
       "      <td>NaN</td>\n",
       "      <td>B</td>\n",
       "    </tr>\n",
       "    <tr>\n",
       "      <th>8337</th>\n",
       "      <td>3755</td>\n",
       "      <td>Russia</td>\n",
       "      <td>ios</td>\n",
       "      <td>male</td>\n",
       "      <td>590.0</td>\n",
       "      <td>A</td>\n",
       "    </tr>\n",
       "    <tr>\n",
       "      <th>8338</th>\n",
       "      <td>4594</td>\n",
       "      <td>Sweden</td>\n",
       "      <td>android</td>\n",
       "      <td>female</td>\n",
       "      <td>NaN</td>\n",
       "      <td>B</td>\n",
       "    </tr>\n",
       "    <tr>\n",
       "      <th>8339</th>\n",
       "      <td>7430</td>\n",
       "      <td>Sweden</td>\n",
       "      <td>ios</td>\n",
       "      <td>female</td>\n",
       "      <td>NaN</td>\n",
       "      <td>B</td>\n",
       "    </tr>\n",
       "    <tr>\n",
       "      <th>8340</th>\n",
       "      <td>2460</td>\n",
       "      <td>Russia</td>\n",
       "      <td>android</td>\n",
       "      <td>female</td>\n",
       "      <td>NaN</td>\n",
       "      <td>B</td>\n",
       "    </tr>\n",
       "  </tbody>\n",
       "</table>\n",
       "<p>8341 rows × 6 columns</p>\n",
       "</div>"
      ],
      "text/plain": [
       "      user_id country platform     sex  revenue group\n",
       "0        8029  Russia      ios    male      NaN     B\n",
       "1        1735  Sweden      ios    male      NaN     B\n",
       "2        7697  Russia  android    male      NaN     B\n",
       "3        1421  Sweden  android  female      NaN     B\n",
       "4        1704  Russia      ios    male      NaN     B\n",
       "...       ...     ...      ...     ...      ...   ...\n",
       "8336     2417  Sweden      ios  female      NaN     B\n",
       "8337     3755  Russia      ios    male    590.0     A\n",
       "8338     4594  Sweden  android  female      NaN     B\n",
       "8339     7430  Sweden      ios  female      NaN     B\n",
       "8340     2460  Russia  android  female      NaN     B\n",
       "\n",
       "[8341 rows x 6 columns]"
      ]
     },
     "execution_count": 7,
     "metadata": {},
     "output_type": "execute_result"
    }
   ],
   "source": [
    "all"
   ]
  },
  {
   "cell_type": "code",
   "execution_count": 8,
   "metadata": {},
   "outputs": [
    {
     "data": {
      "text/plain": [
       "B    6803\n",
       "A    1538\n",
       "Name: group, dtype: int64"
      ]
     },
     "execution_count": 8,
     "metadata": {},
     "output_type": "execute_result"
    }
   ],
   "source": [
    "all['group'].value_counts()"
   ]
  },
  {
   "attachments": {},
   "cell_type": "markdown",
   "metadata": {},
   "source": [
    "#### Задание 1\n",
    "Был проведен A/B тест: тестовой группе предлагалась новая модель оплаты коллекций шаблонов, контрольной – старая механика. Основная задача: проанализировать итоги эксперимента и решить, нужно ли выкатывать новую модель на остальных пользователей.\n",
    "\n",
    "В ходе отчета обосновать выбор метрик, на которые обращаете внимание. \n",
    "Если различия есть, то объяснить, с чем они могут быть связаны и являются ли значимыми."
   ]
  },
  {
   "cell_type": "markdown",
   "metadata": {},
   "source": [
    "# Посмотрим статистику"
   ]
  },
  {
   "cell_type": "code",
   "execution_count": 9,
   "metadata": {},
   "outputs": [
    {
     "data": {
      "text/plain": [
       "group  country  platform  sex   \n",
       "B      Russia   android   male      1268\n",
       "                          female    1210\n",
       "                ios       female    1013\n",
       "                          male      1001\n",
       "       Sweden   android   female     662\n",
       "                          male       647\n",
       "                ios       female     507\n",
       "                          male       495\n",
       "A      Russia   android   female     267\n",
       "                          male       243\n",
       "                ios       male       231\n",
       "                          female     174\n",
       "       Sweden   android   male       162\n",
       "                          female     162\n",
       "                ios       female     150\n",
       "                          male       149\n",
       "dtype: int64"
      ]
     },
     "execution_count": 9,
     "metadata": {},
     "output_type": "execute_result"
    }
   ],
   "source": [
    "all[['group','country','platform','sex']].value_counts()"
   ]
  },
  {
   "attachments": {},
   "cell_type": "markdown",
   "metadata": {},
   "source": [
    "#### Посмотрим на гистограмму по всем оплатам"
   ]
  },
  {
   "cell_type": "code",
   "execution_count": 12,
   "metadata": {},
   "outputs": [
    {
     "data": {
      "text/plain": [
       "<matplotlib.axes._subplots.AxesSubplot at 0x7f9c0f0fa710>"
      ]
     },
     "execution_count": 12,
     "metadata": {},
     "output_type": "execute_result"
    },
    {
     "data": {
      "image/png": "[encoded data removed]",
      "text/plain": [
       "<Figure size 432x288 with 1 Axes>"
      ]
     },
     "metadata": {
      "needs_background": "light"
     },
     "output_type": "display_data"
    }
   ],
   "source": [
    "all['revenue'].hist()"
   ]
  },
  {
   "attachments": {},
   "cell_type": "markdown",
   "metadata": {},
   "source": [
    "#### Посмотрим разбивку по странам"
   ]
  },
  {
   "cell_type": "code",
   "execution_count": 14,
   "metadata": {},
   "outputs": [
    {
     "data": {
      "text/html": [
       "<div>\n",
       "<style scoped>\n",
       "    .dataframe tbody tr th:only-of-type {\n",
       "        vertical-align: middle;\n",
       "    }\n",
       "\n",
       "    .dataframe tbody tr th {\n",
       "        vertical-align: top;\n",
       "    }\n",
       "\n",
       "    .dataframe thead th {\n",
       "        text-align: right;\n",
       "    }\n",
       "</style>\n",
       "<table border=\"1\" class=\"dataframe\">\n",
       "  <thead>\n",
       "    <tr style=\"text-align: right;\">\n",
       "      <th></th>\n",
       "      <th></th>\n",
       "      <th>revenue</th>\n",
       "    </tr>\n",
       "    <tr>\n",
       "      <th>group</th>\n",
       "      <th>country</th>\n",
       "      <th></th>\n",
       "    </tr>\n",
       "  </thead>\n",
       "  <tbody>\n",
       "    <tr>\n",
       "      <th rowspan=\"2\" valign=\"top\">A</th>\n",
       "      <th>Russia</th>\n",
       "      <td>823.418605</td>\n",
       "    </tr>\n",
       "    <tr>\n",
       "      <th>Sweden</th>\n",
       "      <td>1091.171429</td>\n",
       "    </tr>\n",
       "    <tr>\n",
       "      <th rowspan=\"2\" valign=\"top\">B</th>\n",
       "      <th>Russia</th>\n",
       "      <td>1215.441624</td>\n",
       "    </tr>\n",
       "    <tr>\n",
       "      <th>Sweden</th>\n",
       "      <td>1356.162393</td>\n",
       "    </tr>\n",
       "  </tbody>\n",
       "</table>\n",
       "</div>"
      ],
      "text/plain": [
       "                   revenue\n",
       "group country             \n",
       "A     Russia    823.418605\n",
       "      Sweden   1091.171429\n",
       "B     Russia   1215.441624\n",
       "      Sweden   1356.162393"
      ]
     },
     "execution_count": 14,
     "metadata": {},
     "output_type": "execute_result"
    }
   ],
   "source": [
    "all.groupby(['group', 'country']).agg({'revenue':'mean'})"
   ]
  },
  {
   "attachments": {},
   "cell_type": "markdown",
   "metadata": {},
   "source": [
    "#### Средний доход и в тестовой и контрольной выше в Швеции"
   ]
  },
  {
   "cell_type": "code",
   "execution_count": 17,
   "metadata": {},
   "outputs": [
    {
     "data": {
      "text/html": [
       "<div>\n",
       "<style scoped>\n",
       "    .dataframe tbody tr th:only-of-type {\n",
       "        vertical-align: middle;\n",
       "    }\n",
       "\n",
       "    .dataframe tbody tr th {\n",
       "        vertical-align: top;\n",
       "    }\n",
       "\n",
       "    .dataframe thead th {\n",
       "        text-align: right;\n",
       "    }\n",
       "</style>\n",
       "<table border=\"1\" class=\"dataframe\">\n",
       "  <thead>\n",
       "    <tr style=\"text-align: right;\">\n",
       "      <th></th>\n",
       "      <th>user_id</th>\n",
       "      <th>country</th>\n",
       "      <th>platform</th>\n",
       "      <th>sex</th>\n",
       "      <th>revenue</th>\n",
       "      <th>group</th>\n",
       "    </tr>\n",
       "  </thead>\n",
       "  <tbody>\n",
       "    <tr>\n",
       "      <th>45</th>\n",
       "      <td>1202</td>\n",
       "      <td>Sweden</td>\n",
       "      <td>android</td>\n",
       "      <td>male</td>\n",
       "      <td>302.0</td>\n",
       "      <td>A</td>\n",
       "    </tr>\n",
       "    <tr>\n",
       "      <th>58</th>\n",
       "      <td>6284</td>\n",
       "      <td>Russia</td>\n",
       "      <td>android</td>\n",
       "      <td>female</td>\n",
       "      <td>208.0</td>\n",
       "      <td>B</td>\n",
       "    </tr>\n",
       "    <tr>\n",
       "      <th>63</th>\n",
       "      <td>6554</td>\n",
       "      <td>Sweden</td>\n",
       "      <td>android</td>\n",
       "      <td>female</td>\n",
       "      <td>602.0</td>\n",
       "      <td>B</td>\n",
       "    </tr>\n",
       "    <tr>\n",
       "      <th>101</th>\n",
       "      <td>6000</td>\n",
       "      <td>Sweden</td>\n",
       "      <td>ios</td>\n",
       "      <td>male</td>\n",
       "      <td>1910.0</td>\n",
       "      <td>B</td>\n",
       "    </tr>\n",
       "    <tr>\n",
       "      <th>117</th>\n",
       "      <td>4046</td>\n",
       "      <td>Sweden</td>\n",
       "      <td>ios</td>\n",
       "      <td>female</td>\n",
       "      <td>1909.0</td>\n",
       "      <td>B</td>\n",
       "    </tr>\n",
       "  </tbody>\n",
       "</table>\n",
       "</div>"
      ],
      "text/plain": [
       "     user_id country platform     sex  revenue group\n",
       "45      1202  Sweden  android    male    302.0     A\n",
       "58      6284  Russia  android  female    208.0     B\n",
       "63      6554  Sweden  android  female    602.0     B\n",
       "101     6000  Sweden      ios    male   1910.0     B\n",
       "117     4046  Sweden      ios  female   1909.0     B"
      ]
     },
     "execution_count": 17,
     "metadata": {},
     "output_type": "execute_result"
    }
   ],
   "source": [
    "# Заполним пустые значения и отберем только те,что выше нуля\n",
    "all['revenue'] = all['revenue'].fillna(0)\n",
    "all_full = all.query('revenue != 0')\n",
    "all_full.head()"
   ]
  },
  {
   "cell_type": "code",
   "execution_count": 19,
   "metadata": {},
   "outputs": [
    {
     "data": {
      "text/html": [
       "<div>\n",
       "<style scoped>\n",
       "    .dataframe tbody tr th:only-of-type {\n",
       "        vertical-align: middle;\n",
       "    }\n",
       "\n",
       "    .dataframe tbody tr th {\n",
       "        vertical-align: top;\n",
       "    }\n",
       "\n",
       "    .dataframe thead th {\n",
       "        text-align: right;\n",
       "    }\n",
       "</style>\n",
       "<table border=\"1\" class=\"dataframe\">\n",
       "  <thead>\n",
       "    <tr style=\"text-align: right;\">\n",
       "      <th></th>\n",
       "      <th>revenue</th>\n",
       "    </tr>\n",
       "    <tr>\n",
       "      <th>group</th>\n",
       "      <th></th>\n",
       "    </tr>\n",
       "  </thead>\n",
       "  <tbody>\n",
       "    <tr>\n",
       "      <th>A</th>\n",
       "      <td>943.564103</td>\n",
       "    </tr>\n",
       "    <tr>\n",
       "      <th>B</th>\n",
       "      <td>1267.875796</td>\n",
       "    </tr>\n",
       "  </tbody>\n",
       "</table>\n",
       "</div>"
      ],
      "text/plain": [
       "           revenue\n",
       "group             \n",
       "A       943.564103\n",
       "B      1267.875796"
      ]
     },
     "execution_count": 19,
     "metadata": {},
     "output_type": "execute_result"
    }
   ],
   "source": [
    "# Посмотрим на среднее значение (выше нуля)\n",
    "all\\\n",
    "    .query ('revenue != 0')\\\n",
    "    .groupby ('group')\\\n",
    "    .agg ({'revenue':'mean'})"
   ]
  },
  {
   "cell_type": "code",
   "execution_count": 21,
   "metadata": {},
   "outputs": [
    {
     "data": {
      "text/html": [
       "<div>\n",
       "<style scoped>\n",
       "    .dataframe tbody tr th:only-of-type {\n",
       "        vertical-align: middle;\n",
       "    }\n",
       "\n",
       "    .dataframe tbody tr th {\n",
       "        vertical-align: top;\n",
       "    }\n",
       "\n",
       "    .dataframe thead th {\n",
       "        text-align: right;\n",
       "    }\n",
       "</style>\n",
       "<table border=\"1\" class=\"dataframe\">\n",
       "  <thead>\n",
       "    <tr style=\"text-align: right;\">\n",
       "      <th></th>\n",
       "      <th>revenue</th>\n",
       "    </tr>\n",
       "    <tr>\n",
       "      <th>group</th>\n",
       "      <th></th>\n",
       "    </tr>\n",
       "  </thead>\n",
       "  <tbody>\n",
       "    <tr>\n",
       "      <th>A</th>\n",
       "      <td>596.0</td>\n",
       "    </tr>\n",
       "    <tr>\n",
       "      <th>B</th>\n",
       "      <td>1151.0</td>\n",
       "    </tr>\n",
       "  </tbody>\n",
       "</table>\n",
       "</div>"
      ],
      "text/plain": [
       "       revenue\n",
       "group         \n",
       "A        596.0\n",
       "B       1151.0"
      ]
     },
     "execution_count": 21,
     "metadata": {},
     "output_type": "execute_result"
    }
   ],
   "source": [
    "# Посмотрим на медиану\n",
    "all\\\n",
    "    .query ('revenue != 0')\\\n",
    "    .groupby ('group')\\\n",
    "    .agg ({'revenue':'median'})"
   ]
  },
  {
   "attachments": {},
   "cell_type": "markdown",
   "metadata": {},
   "source": [
    "В качестве метрик будем разбирать средний доход на пользователя, средний доход на платящего пользователя и конверсию посещений. \n",
    "\n",
    "ARPPU покажет средние траты только платящих\n",
    "ARPU покажет средние траты клиента на проудукт\n",
    "Conversion Rate покажет изменения посещаемсти для тестовой и контрольной группы"
   ]
  },
  {
   "cell_type": "code",
   "execution_count": 23,
   "metadata": {},
   "outputs": [
    {
     "name": "stdout",
     "output_type": "stream",
     "text": [
      "ARPU контрольная =  47.85\n",
      "ARPU тестовая =  58.52\n"
     ]
    }
   ],
   "source": [
    "ARPU_A = all.query('group == \"A\"').revenue.sum() / all.query('group == \"A\"').shape[0]\n",
    "ARPU_B = all.query('group == \"B\"').revenue.sum() / all.query('group == \"B\"').shape[0]\n",
    "\n",
    "print('ARPU контрольная = ', '%.2f' % ARPU_A)\n",
    "print('ARPU тестовая = ', '%.2f' % ARPU_B)"
   ]
  },
  {
   "cell_type": "code",
   "execution_count": 24,
   "metadata": {},
   "outputs": [
    {
     "name": "stdout",
     "output_type": "stream",
     "text": [
      "CR контрольная =  5.07\n",
      "CR тестовая =  4.62\n"
     ]
    }
   ],
   "source": [
    "CR_A = ((all.query('group == \"A\" and revenue > 0').user_id.nunique() / all.query('group == \"A\"').user_id.nunique())*100)\n",
    "CR_B = (all.query('group == \"B\" and revenue > 0').user_id.nunique() / all.query('group == \"B\"').user_id.nunique())*100\n",
    "\n",
    "print('CR контрольная = ', '%.2f' % CR_A)\n",
    "print('CR тестовая = ', '%.2f' % CR_B)"
   ]
  },
  {
   "cell_type": "code",
   "execution_count": 25,
   "metadata": {},
   "outputs": [
    {
     "name": "stdout",
     "output_type": "stream",
     "text": [
      "ARPPU контрольная =  943.56\n",
      "ARPPU тестовая =  1267.88\n"
     ]
    }
   ],
   "source": [
    "ARPPU_A = all.query('group == \"A\"').revenue.sum() / all.query('group == \"A\" and revenue > 0').shape[0]\n",
    "ARPPU_B = all.query('group == \"B\"').revenue.sum() / all.query('group == \"B\" and revenue > 0').shape[0]\n",
    "\n",
    "print('ARPPU контрольная = ', '%.2f' % ARPPU_A)\n",
    "print('ARPPU тестовая = ', '%.2f' % ARPPU_B)"
   ]
  },
  {
   "cell_type": "markdown",
   "metadata": {},
   "source": [
    "# Мини вывод:"
   ]
  },
  {
   "attachments": {},
   "cell_type": "markdown",
   "metadata": {},
   "source": [
    "Тестовая группа показывает больший средний доход с одного посетителя и с платящего клианта, но меньшую конверсию.\n",
    "\n",
    "Можем предположить, что изменения благоприятно влияют на целевую аудиторию и стимулируют к бОльшим тратам."
   ]
  },
  {
   "attachments": {},
   "cell_type": "markdown",
   "metadata": {},
   "source": [
    "### Сделаем более глубокий анализ. Посмотрим с разбивкой по стране, устройству и полу."
   ]
  },
  {
   "attachments": {},
   "cell_type": "markdown",
   "metadata": {},
   "source": [
    "## ARPU\n",
    "\n",
    "### ARPU по странам "
   ]
  },
  {
   "cell_type": "code",
   "execution_count": 28,
   "metadata": {},
   "outputs": [
    {
     "name": "stdout",
     "output_type": "stream",
     "text": [
      "ARPU контрольной Russia =  823.42\n",
      "ARPU тестовой Russia =  1215.44\n",
      "ARPU контрольной Sweden =  1091.17\n",
      "ARPU тестовой Sweden =  1356.16\n"
     ]
    }
   ],
   "source": [
    "ARPU_A_Russia = all.query('group == \"A\" and country == \"Russia\"').revenue.sum() / all.query('group == \"A\" and revenue > 0 and country == \"Russia\"').shape[0]\n",
    "ARPU_B_Russia = all.query('group == \"B\" and country == \"Russia\"').revenue.sum() / all.query('group == \"B\" and revenue > 0 and country == \"Russia\"').shape[0]\n",
    "ARPU_A_Sweden = all.query('group == \"A\" and country == \"Sweden\"').revenue.sum() / all.query('group == \"A\" and revenue > 0 and country == \"Sweden\"').shape[0]\n",
    "ARPU_B_Sweden = all.query('group == \"B\" and country == \"Sweden\"').revenue.sum() / all.query('group == \"B\" and revenue > 0 and country == \"Sweden\"').shape[0]\n",
    "\n",
    "print('ARPU контрольной Russia = ', '%.2f' % ARPU_A_Russia)\n",
    "print('ARPU тестовой Russia = ', '%.2f' % ARPU_B_Russia)\n",
    "print('ARPU контрольной Sweden = ', '%.2f' % ARPU_A_Sweden)\n",
    "print('ARPU тестовой Sweden = ', '%.2f' % ARPU_B_Sweden)"
   ]
  },
  {
   "attachments": {},
   "cell_type": "markdown",
   "metadata": {},
   "source": [
    "### ARPU по устройствам"
   ]
  },
  {
   "cell_type": "code",
   "execution_count": 30,
   "metadata": {},
   "outputs": [
    {
     "name": "stdout",
     "output_type": "stream",
     "text": [
      "ARPU контрольная Android =  1023.03\n",
      "ARPU тестовая Android =  1232.44\n",
      "ARPU контрольная iOs =  864.10\n",
      "ARPU тестовая iOs =  1309.18\n"
     ]
    }
   ],
   "source": [
    "ARPU_A_Android = all.query('group == \"A\" and platform == \"android\"').revenue.sum() / all.query('group == \"A\" and revenue > 0 and platform == \"android\"').shape[0]\n",
    "ARPU_B_Android = all.query('group == \"B\" and platform == \"android\"').revenue.sum() / all.query('group == \"B\" and revenue > 0 and platform == \"android\"').shape[0]\n",
    "ARPU_A_Ios = all.query('group == \"A\" and  platform == \"ios\"').revenue.sum() / all.query('group == \"A\" and revenue > 0 and platform == \"ios\"').shape[0]\n",
    "ARPU_B_Ios = all.query('group == \"B\" and  platform == \"ios\"').revenue.sum() / all.query('group == \"B\" and revenue > 0 and platform == \"ios\"').shape[0]\n",
    "\n",
    "print('ARPU контрольная Android = ', '%.2f' % ARPU_A_Android)\n",
    "print('ARPU тестовая Android = ', '%.2f' % ARPU_B_Android)\n",
    "print('ARPU контрольная iOs = ', '%.2f' % ARPU_A_Ios)\n",
    "print('ARPU тестовая iOs = ', '%.2f' % ARPU_B_Ios)"
   ]
  },
  {
   "attachments": {},
   "cell_type": "markdown",
   "metadata": {},
   "source": [
    "Видим подтверждение ранее полученных результатов. Плюс по iOS отличие больше, чем в 1,5 раза"
   ]
  },
  {
   "attachments": {},
   "cell_type": "markdown",
   "metadata": {},
   "source": [
    "### ARPU по полу"
   ]
  },
  {
   "cell_type": "code",
   "execution_count": 33,
   "metadata": {},
   "outputs": [
    {
     "name": "stdout",
     "output_type": "stream",
     "text": [
      "ARPU контрольная М =  1021.73\n",
      "ARPU тестовая М =  1169.37\n",
      "ARPU контрольная Ж =  856.95\n",
      "ARPU тестовая Ж =  1370.22\n"
     ]
    }
   ],
   "source": [
    "ARPU_A_male = all.query('group == \"A\" and sex == \"male\"').revenue.sum() / all.query('group == \"A\" and revenue > 0 and sex == \"male\"').shape[0]\n",
    "ARPU_B_male = all.query('group == \"B\" and sex == \"male\"').revenue.sum() / all.query('group == \"B\" and revenue > 0 and sex == \"male\"').shape[0]\n",
    "ARPU_A_female = all.query('group == \"A\" and sex == \"female\"').revenue.sum() / all.query('group == \"A\" and revenue > 0 and sex == \"female\"').shape[0]\n",
    "ARPU_B_female = all.query('group == \"B\" and sex == \"female\"').revenue.sum() / all.query('group == \"B\" and revenue > 0 and sex == \"female\"').shape[0]\n",
    "\n",
    "print('ARPU контрольная М = ', '%.2f' % ARPU_A_male)\n",
    "print('ARPU тестовая М = ', '%.2f' % ARPU_B_male)\n",
    "print('ARPU контрольная Ж = ', '%.2f' % ARPU_A_female)\n",
    "print('ARPU тестовая Ж = ', '%.2f' % ARPU_B_female)"
   ]
  },
  {
   "attachments": {},
   "cell_type": "markdown",
   "metadata": {},
   "source": [
    "Видим подтверждение ранее полученных результатов. Плюс по женщинам отличие больше, чем в 1,5 раза"
   ]
  },
  {
   "attachments": {},
   "cell_type": "markdown",
   "metadata": {},
   "source": [
    "## CR\n",
    "\n",
    "### CR по странам"
   ]
  },
  {
   "cell_type": "code",
   "execution_count": 36,
   "metadata": {},
   "outputs": [
    {
     "name": "stdout",
     "output_type": "stream",
     "text": [
      "CR контрольная Россия  =  4.70 %\n",
      "CR тестовая Россия =  4.39 %\n",
      "CR контрольная Швеция =  5.62 %\n",
      "CR тестовая Швеция =  5.06 %\n"
     ]
    }
   ],
   "source": [
    "CR_A_Russia = (all.query('group == \"A\" and revenue > 0 and country == \"Russia\"').user_id.nunique() / all.query('group == \"A\" and country == \"Russia\"').user_id.nunique())*100\n",
    "CR_B_Russia = (all.query('group == \"B\" and revenue > 0 and country == \"Russia\"').user_id.nunique() / all.query('group == \"B\" and country == \"Russia\"').user_id.nunique())*100\n",
    "CR_A_Sweden = (all.query('group == \"A\" and revenue > 0 and country == \"Sweden\"').user_id.nunique() / all.query('group == \"A\" and country == \"Sweden\"').user_id.nunique())*100\n",
    "CR_B_Sweden = (all.query('group == \"B\" and revenue > 0 and country == \"Sweden\"').user_id.nunique() / all.query('group == \"B\" and country == \"Sweden\"').user_id.nunique())*100\n",
    "\n",
    "print('CR контрольная Россия  = ', '%.2f' % CR_A_Russia, '%')\n",
    "print('CR тестовая Россия = ', '%.2f' % CR_B_Russia, '%')\n",
    "print('CR контрольная Швеция = ', '%.2f' % CR_A_Sweden, '%')\n",
    "print('CR тестовая Швеция = ', '%.2f' % CR_B_Sweden, '%')"
   ]
  },
  {
   "attachments": {},
   "cell_type": "markdown",
   "metadata": {},
   "source": [
    "### CR по устройствам"
   ]
  },
  {
   "cell_type": "code",
   "execution_count": 38,
   "metadata": {},
   "outputs": [
    {
     "name": "stdout",
     "output_type": "stream",
     "text": [
      "CR контрольная Android =  4.68 %\n",
      "CR тестовая Android =  4.46 %\n",
      "CR контрольная iOs =  5.54 %\n",
      "CR тестовая iOs =  4.81 %\n"
     ]
    }
   ],
   "source": [
    "CR_A_Android = (all.query('group == \"A\" and revenue > 0 and platform == \"android\"').user_id.nunique() / all.query('group == \"A\" and platform == \"android\"').user_id.nunique())*100\n",
    "CR_B_Android = (all.query('group == \"B\" and revenue > 0 and platform == \"android\"').user_id.nunique() / all.query('group == \"B\" and platform == \"android\"').user_id.nunique())*100\n",
    "CR_A_Ios = (all.query('group == \"A\" and revenue > 0 and platform == \"ios\"').user_id.nunique() / all.query('group == \"A\" and platform == \"ios\"').user_id.nunique())*100\n",
    "CR_B_Ios = (all.query('group == \"B\" and revenue > 0 and platform == \"ios\"').user_id.nunique() / all.query('group == \"B\" and platform == \"ios\"').user_id.nunique())*100\n",
    "\n",
    "print('CR контрольная Android = ', '%.2f' % CR_A_Android, '%')\n",
    "print('CR тестовая Android = ', '%.2f' % CR_B_Android, '%')\n",
    "print('CR контрольная iOs = ', '%.2f' % CR_A_Ios, '%')\n",
    "print('CR тестовая iOs = ', '%.2f' % CR_B_Ios, '%')"
   ]
  },
  {
   "attachments": {},
   "cell_type": "markdown",
   "metadata": {},
   "source": [
    "### CR по полу"
   ]
  },
  {
   "cell_type": "code",
   "execution_count": 40,
   "metadata": {},
   "outputs": [
    {
     "name": "stdout",
     "output_type": "stream",
     "text": [
      "CR контрольная М =  5.22 %\n",
      "CR тестовая М =  4.69 %\n",
      "CR контрольная Ж =  4.91 %\n",
      "CR тестовая Ж =  4.54 %\n"
     ]
    }
   ],
   "source": [
    "CR_A_male = (all.query('group == \"A\" and revenue > 0 and sex == \"male\"').user_id.nunique() / all.query('group == \"A\" and sex == \"male\"').user_id.nunique())*100\n",
    "CR_B_male = (all.query('group == \"B\" and revenue > 0 and sex == \"male\"').user_id.nunique() / all.query('group == \"B\" and sex == \"male\"').user_id.nunique())*100\n",
    "CR_A_female = (all.query('group == \"A\" and revenue > 0 and sex == \"female\"').user_id.nunique() / all.query('group == \"A\" and sex == \"female\"').user_id.nunique())*100\n",
    "CR_B_female = (all.query('group == \"B\" and revenue > 0 and sex == \"female\"').user_id.nunique() / all.query('group == \"B\" and sex == \"female\"').user_id.nunique())*100\n",
    "\n",
    "print('CR контрольная М = ', '%.2f' % CR_A_male, '%')\n",
    "print('CR тестовая М = ', '%.2f' % CR_B_male, '%')\n",
    "print('CR контрольная Ж = ', '%.2f' % CR_A_female, '%')\n",
    "print('CR тестовая Ж = ', '%.2f' % CR_B_female, '%')"
   ]
  },
  {
   "attachments": {},
   "cell_type": "markdown",
   "metadata": {},
   "source": [
    "## ARPPU\n",
    "\n",
    "### ARPPU по полу"
   ]
  },
  {
   "cell_type": "code",
   "execution_count": 42,
   "metadata": {},
   "outputs": [
    {
     "name": "stdout",
     "output_type": "stream",
     "text": [
      "ARPPU контрольная М =  1021.73\n",
      "ARPPU тестовая М =  1169.37\n",
      "ARPPU контрольная Ж =  856.95\n",
      "ARPPU тестовая Ж =  1370.22\n"
     ]
    }
   ],
   "source": [
    "ARPPU_A_male = all.query('group == \"A\" and sex == \"male\"').revenue.sum() / all.query('group == \"A\" and revenue > 0 and sex == \"male\"').shape[0]\n",
    "ARPPU_B_male = all.query('group == \"B\" and sex == \"male\"').revenue.sum() / all.query('group == \"B\" and revenue > 0 and sex == \"male\"').shape[0]\n",
    "ARPPU_A_fem = all.query('group == \"A\" and sex == \"female\"').revenue.sum() / all.query('group == \"A\" and revenue > 0 and sex == \"female\"').shape[0]\n",
    "ARPPU_B_fem = all.query('group == \"B\" and sex == \"female\"').revenue.sum() / all.query('group == \"B\" and revenue > 0 and sex == \"female\"').shape[0]\n",
    "\n",
    "print('ARPPU контрольная М = ', '%.2f' % ARPPU_A_male)\n",
    "print('ARPPU тестовая М = ', '%.2f' % ARPPU_B_male)\n",
    "print('ARPPU контрольная Ж = ', '%.2f' % ARPPU_A_fem)\n",
    "print('ARPPU тестовая Ж = ', '%.2f' % ARPPU_B_fem)"
   ]
  },
  {
   "attachments": {},
   "cell_type": "markdown",
   "metadata": {},
   "source": [
    "### ARPPU по стране"
   ]
  },
  {
   "cell_type": "code",
   "execution_count": 44,
   "metadata": {},
   "outputs": [
    {
     "name": "stdout",
     "output_type": "stream",
     "text": [
      "ARPPU контрольная Россия =  823.42\n",
      "ARPPU тестовая Россия =  1215.44\n",
      "ARPPU контрольная Швеция =  1091.17\n",
      "ARPPU тестовая Швеция =  1356.16\n"
     ]
    }
   ],
   "source": [
    "ARPPU_A_rus = all.query('group == \"A\" and country == \"Russia\"').revenue.sum() / all.query('group == \"A\" and revenue > 0 and country == \"Russia\"').shape[0]\n",
    "ARPPU_B_rus = all.query('group == \"B\" and country == \"Russia\"').revenue.sum() / all.query('group == \"B\" and revenue > 0 and country == \"Russia\"').shape[0]\n",
    "ARPPU_A_swd = all.query('group == \"A\" and country == \"Sweden\"').revenue.sum() / all.query('group == \"A\" and revenue > 0 and country == \"Sweden\"').shape[0]\n",
    "ARPPU_B_swd = all.query('group == \"B\" and country == \"Sweden\"').revenue.sum() / all.query('group == \"B\" and revenue > 0 and country == \"Sweden\"').shape[0]\n",
    "\n",
    "print('ARPPU контрольная Россия = ', '%.2f' % ARPPU_A_rus)\n",
    "print('ARPPU тестовая Россия = ', '%.2f' % ARPPU_B_rus)\n",
    "print('ARPPU контрольная Швеция = ', '%.2f' % ARPPU_A_swd)\n",
    "print('ARPPU тестовая Швеция = ', '%.2f' % ARPPU_B_swd)"
   ]
  },
  {
   "attachments": {},
   "cell_type": "markdown",
   "metadata": {},
   "source": [
    "### ARPPU по устрйоствам"
   ]
  },
  {
   "cell_type": "code",
   "execution_count": 46,
   "metadata": {},
   "outputs": [
    {
     "name": "stdout",
     "output_type": "stream",
     "text": [
      "ARPPU контрольная андроид =  1023.03\n",
      "ARPPU тестовая андроид =  1232.44\n",
      "ARPPU контрольная iOs =  864.10\n",
      "ARPPU тестовая iOs =  1309.18\n"
     ]
    }
   ],
   "source": [
    "ARPPU_A_Android = all.query('group == \"A\" and platform == \"android\"').revenue.sum() / all.query('group == \"A\" and revenue > 0 and platform == \"android\"').shape[0]\n",
    "ARPPU_B_Android = all.query('group == \"B\" and platform == \"android\"').revenue.sum() / all.query('group == \"B\" and revenue > 0 and platform == \"android\"').shape[0]\n",
    "ARPPU_A_iOs = all.query('group == \"A\" and platform == \"ios\"').revenue.sum() / all.query('group == \"A\" and revenue > 0 and platform == \"ios\"').shape[0]\n",
    "ARPPU_B_iOs = all.query('group == \"B\" and platform == \"ios\"').revenue.sum() / all.query('group == \"B\" and revenue > 0 and platform == \"ios\"').shape[0]\n",
    "\n",
    "print('ARPPU контрольная андроид = ', '%.2f' % ARPPU_A_Android)\n",
    "print('ARPPU тестовая андроид = ', '%.2f' % ARPPU_B_Android)\n",
    "print('ARPPU контрольная iOs = ', '%.2f' % ARPPU_A_iOs)\n",
    "print('ARPPU тестовая iOs = ', '%.2f' % ARPPU_B_iOs)"
   ]
  },
  {
   "attachments": {},
   "cell_type": "markdown",
   "metadata": {},
   "source": [
    "## Мини вывод\n",
    "\n",
    "Более детальное рассмотрение критериев показывает нам схожую ситуацию с различием показателей в тестовой и контрольной группе."
   ]
  },
  {
   "attachments": {},
   "cell_type": "markdown",
   "metadata": {},
   "source": [
    "## Проверим распределение и наши результаты\n",
    "\n",
    "Еще раз подтвердим, что распределение не нормальное с помощью теста Шапиро."
   ]
  },
  {
   "cell_type": "code",
   "execution_count": 50,
   "metadata": {},
   "outputs": [
    {
     "data": {
      "text/plain": [
       "ShapiroResult(statistic=0.15433555841445923, pvalue=0.0)"
      ]
     },
     "execution_count": 50,
     "metadata": {},
     "output_type": "execute_result"
    }
   ],
   "source": [
    "stats.shapiro(all[all['group'] == 'A']['revenue'].sample(1500, random_state=17))"
   ]
  },
  {
   "attachments": {},
   "cell_type": "markdown",
   "metadata": {},
   "source": [
    "По графику выше и по результатам теста видим,что распределение не нормальное + длинные выбросы, \n",
    "поэтому будем использовать тест Манна-Уитни.\n",
    "\n",
    "Возьмем нулевую гипотезу о том,что статистических различий по оплате и среднему чеку нет.\n",
    "H1 - стат различия есть между тестом и контрольной."
   ]
  },
  {
   "cell_type": "code",
   "execution_count": 53,
   "metadata": {},
   "outputs": [
    {
     "data": {
      "text/plain": [
       "MannwhitneyuResult(statistic=8961.0, pvalue=0.00023939080114586078)"
      ]
     },
     "execution_count": 53,
     "metadata": {},
     "output_type": "execute_result"
    }
   ],
   "source": [
    "# Применим тест Манна Уитни,чтобы принять/отклонить нудевую гипотезу\n",
    "stats.mannwhitneyu(all.query('group == \"A\" and revenue > 0').revenue, all.query('group == \"B\" and revenue > 0').revenue)"
   ]
  },
  {
   "attachments": {},
   "cell_type": "markdown",
   "metadata": {},
   "source": [
    "p-value меньше 0,05 Поэтому H0 можем отклонить\n",
    "\n",
    "Также проверим по разбивкам выше"
   ]
  },
  {
   "attachments": {},
   "cell_type": "markdown",
   "metadata": {},
   "source": [
    "## Проводим тест Манна-Уитни\n",
    "\n",
    "### Манн-Утни с учетом стран"
   ]
  },
  {
   "cell_type": "code",
   "execution_count": 56,
   "metadata": {},
   "outputs": [
    {
     "name": "stdout",
     "output_type": "stream",
     "text": [
      "Тест Манна-Уитни по России:  MannwhitneyuResult(statistic=2925.5, pvalue=0.0014699816493472517)\n",
      "Тест Манна-Уитни по Швеции:  MannwhitneyuResult(statistic=1577.5, pvalue=0.03958280081671394)\n"
     ]
    }
   ],
   "source": [
    "Rus = stats.mannwhitneyu(all.query('group == \"A\" and revenue > 0 and country == \"Russia\"').revenue, all.query('group == \"B\" and revenue > 0 and country == \"Russia\"').revenue)\n",
    "Swe = stats.mannwhitneyu(all.query('group == \"A\" and revenue > 0 and country == \"Sweden\"').revenue, all.query('group == \"B\" and revenue > 0 and country == \"Sweden\"').revenue)\n",
    "\n",
    "print('Тест Манна-Уитни по России: ', Rus)\n",
    "print('Тест Манна-Уитни по Швеции: ', Swe)"
   ]
  },
  {
   "attachments": {},
   "cell_type": "markdown",
   "metadata": {},
   "source": [
    "### Манн-Утни с учетом пола"
   ]
  },
  {
   "cell_type": "code",
   "execution_count": 58,
   "metadata": {},
   "outputs": [
    {
     "name": "stdout",
     "output_type": "stream",
     "text": [
      "Тест Манна-Уитни по Ж:  MannwhitneyuResult(statistic=1841.0, pvalue=0.0008191912980826493)\n",
      "Тест Манна-Уитни по М:  MannwhitneyuResult(statistic=2663.0, pvalue=0.06326402745293058)\n"
     ]
    }
   ],
   "source": [
    "Fem = stats.mannwhitneyu(all.query('group == \"A\" and revenue > 0 and sex == \"female\"').revenue, all.query('group == \"B\" and revenue > 0 and sex == \"female\"').revenue)\n",
    "Man = stats.mannwhitneyu(all.query('group == \"A\" and revenue > 0 and sex == \"male\"').revenue, all.query('group == \"B\" and revenue > 0 and sex == \"male\"').revenue)\n",
    "\n",
    "print('Тест Манна-Уитни по Ж: ', Fem)\n",
    "print('Тест Манна-Уитни по М: ', Man)"
   ]
  },
  {
   "attachments": {},
   "cell_type": "markdown",
   "metadata": {},
   "source": [
    "### Манн-Утни с учетом типа устройства"
   ]
  },
  {
   "cell_type": "code",
   "execution_count": 60,
   "metadata": {},
   "outputs": [
    {
     "name": "stdout",
     "output_type": "stream",
     "text": [
      "Тест Манна-Уитни по Андроиду:  MannwhitneyuResult(statistic=2630.0, pvalue=0.04925014637316891)\n",
      "Тест Манна-Уитни по iOs:  MannwhitneyuResult(statistic=1893.5, pvalue=0.0015426543641399385)\n"
     ]
    }
   ],
   "source": [
    "And = stats.mannwhitneyu(all.query('group == \"A\" and revenue > 0 and platform == \"android\"').revenue, all.query('group == \"B\" and revenue > 0 and platform == \"android\"').revenue)\n",
    "IOS = stats.mannwhitneyu(all.query('group == \"A\" and revenue > 0 and platform == \"ios\"').revenue, all.query('group == \"B\" and revenue > 0 and platform == \"ios\"').revenue)\n",
    "\n",
    "print('Тест Манна-Уитни по Андроиду: ', And)\n",
    "print('Тест Манна-Уитни по iOs: ', IOS)"
   ]
  },
  {
   "attachments": {},
   "cell_type": "markdown",
   "metadata": {},
   "source": [
    "По результатам тестов Манна Уитни на разбивках мы получаем практически те же результаты, как и на общем тесте.\n",
    "Принять H0 можно только на разбивках по полу (у мужчин).\n",
    "\n",
    "Как результат: Разница в контрольной и тесте по revenue есть. Наши подсчета ARPU и CR можно считать статистически значимыми.\n",
    "Поэтому - в тесте ARPU выше, чем в контроле. Соответственно обновления можно применить на все приложение.\n",
    "\n",
    "Предположиельно обновления лучше всего повлияют на пользователей iOs и на женщин."
   ]
  },
  {
   "attachments": {},
   "cell_type": "markdown",
   "metadata": {},
   "source": [
    "## Теперь оценим значимость различий с помощью бутстрапа"
   ]
  },
  {
   "cell_type": "code",
   "execution_count": 62,
   "metadata": {},
   "outputs": [],
   "source": [
    "# Объявим функцию, которая позволит проверять гипотезы с помощью бутстрапа\n",
    "def get_bootstrap(\n",
    "    data_column_1, # числовые значения первой выборки\n",
    "    data_column_2, # числовые значения второй выборки\n",
    "    boot_it = 1000, # количество бутстрэп-подвыборок\n",
    "    statistic = np.mean, # интересующая нас статистика\n",
    "    bootstrap_conf_level = 0.95 # уровень значимости\n",
    "):\n",
    "    boot_len = max([len(data_column_1), len(data_column_2)])\n",
    "    boot_data = []\n",
    "    for i in tqdm(range(boot_it)): # извлекаем подвыборки\n",
    "        samples_1 = data_column_1.sample(\n",
    "            boot_len, \n",
    "            replace = True # параметр возвращения\n",
    "        ).values\n",
    "        \n",
    "        samples_2 = data_column_2.sample(\n",
    "            boot_len, \n",
    "            replace = True\n",
    "        ).values\n",
    "        \n",
    "        boot_data.append(statistic(samples_1-samples_2)) \n",
    "        \n",
    "    pd_boot_data = pd.DataFrame(boot_data)\n",
    "        \n",
    "    left_quant = (1 - bootstrap_conf_level)/2\n",
    "    right_quant = 1 - (1 - bootstrap_conf_level) / 2\n",
    "    ci = pd_boot_data.quantile([left_quant, right_quant])\n",
    "        \n",
    "    p_1 = norm.cdf(\n",
    "        x = 0, \n",
    "        loc = np.mean(boot_data), \n",
    "        scale = np.std(boot_data)\n",
    "    )\n",
    "    p_2 = norm.cdf(\n",
    "        x = 0, \n",
    "        loc = -np.mean(boot_data), \n",
    "        scale = np.std(boot_data)\n",
    "    )\n",
    "    p_value = min(p_1, p_2) * 2\n",
    "        \n",
    "    # Визуализация\n",
    "    plt.hist(pd_boot_data[0], bins = 50)\n",
    "    \n",
    "    plt.style.use('ggplot')\n",
    "    plt.vlines(ci,ymin=0,ymax=50,linestyle='--')\n",
    "    plt.xlabel('boot_data')\n",
    "    plt.ylabel('frequency')\n",
    "    plt.title(\"Histogram of boot_data\")\n",
    "    plt.show()\n",
    "       \n",
    "    return {\"boot_data\": boot_data, \n",
    "            \"ci\": ci, \n",
    "            \"p_value\": p_value}"
   ]
  },
  {
   "cell_type": "code",
   "execution_count": 63,
   "metadata": {},
   "outputs": [],
   "source": [
    "revenue_control = all.query('group == \"A\" and revenue > 0').revenue\n",
    "revenue_test = all.query('group == \"B\" and revenue > 0').revenue"
   ]
  },
  {
   "cell_type": "code",
   "execution_count": 64,
   "metadata": {},
   "outputs": [
    {
     "data": {
      "application/vnd.jupyter.widget-view+json": {
       "model_id": "24872d31a9b5484582d50274b773e656",
       "version_major": 2,
       "version_minor": 0
      },
      "text/plain": [
       "HBox(children=(FloatProgress(value=0.0, max=2000.0), HTML(value='')))"
      ]
     },
     "metadata": {},
     "output_type": "display_data"
    },
    {
     "name": "stdout",
     "output_type": "stream",
     "text": [
      "\n"
     ]
    },
    {
     "data": {
      "image/png": "[encoded data removed]",
      "text/plain": [
       "<Figure size 432x288 with 1 Axes>"
      ]
     },
     "metadata": {
      "needs_background": "light"
     },
     "output_type": "display_data"
    },
    {
     "data": {
      "text/plain": [
       "2.8934154005728713e-06"
      ]
     },
     "execution_count": 64,
     "metadata": {},
     "output_type": "execute_result"
    }
   ],
   "source": [
    "booted_data = get_bootstrap(revenue_control, revenue_test, boot_it = 2000, statistic = np.mean)\n",
    "booted_data['p_value']"
   ]
  },
  {
   "cell_type": "code",
   "execution_count": 35,
   "metadata": {},
   "outputs": [
    {
     "data": {
      "application/vnd.jupyter.widget-view+json": {
       "model_id": "86f0868bfbbf418a92b73668a6cd70cc",
       "version_major": 2,
       "version_minor": 0
      },
      "text/plain": [
       "HBox(children=(FloatProgress(value=0.0, max=2000.0), HTML(value='')))"
      ]
     },
     "metadata": {},
     "output_type": "display_data"
    },
    {
     "name": "stdout",
     "output_type": "stream",
     "text": [
      "\n"
     ]
    },
    {
     "data": {
      "image/png": "[encoded data removed]",
      "text/plain": [
       "<Figure size 432x288 with 1 Axes>"
      ]
     },
     "metadata": {},
     "output_type": "display_data"
    },
    {
     "data": {
      "text/plain": [
       "3.1383146702599e-05"
      ]
     },
     "execution_count": 35,
     "metadata": {},
     "output_type": "execute_result"
    }
   ],
   "source": [
    "booted_data = get_bootstrap(revenue_control, revenue_test, boot_it = 2000, statistic = np.median)\n",
    "booted_data['p_value']"
   ]
  },
  {
   "attachments": {},
   "cell_type": "markdown",
   "metadata": {},
   "source": [
    "## Проверим ARPU"
   ]
  },
  {
   "cell_type": "code",
   "execution_count": 36,
   "metadata": {},
   "outputs": [
    {
     "data": {
      "application/vnd.jupyter.widget-view+json": {
       "model_id": "9323dc912f4447a5b0b50298fa9a047a",
       "version_major": 2,
       "version_minor": 0
      },
      "text/plain": [
       "HBox(children=(FloatProgress(value=0.0, max=2000.0), HTML(value='')))"
      ]
     },
     "metadata": {},
     "output_type": "display_data"
    },
    {
     "name": "stdout",
     "output_type": "stream",
     "text": [
      "\n"
     ]
    },
    {
     "data": {
      "image/png": "[encoded data removed]",
      "text/plain": [
       "<Figure size 432x288 with 1 Axes>"
      ]
     },
     "metadata": {},
     "output_type": "display_data"
    },
    {
     "data": {
      "text/plain": [
       "0.04534106011934894"
      ]
     },
     "execution_count": 36,
     "metadata": {},
     "output_type": "execute_result"
    }
   ],
   "source": [
    "check_ARPU = get_bootstrap(all.query('group == \"A\"').revenue, all.query('group == \"B\"').revenue, boot_it=2000, statistic = np.mean)\n",
    "check_ARPU['p_value']"
   ]
  },
  {
   "attachments": {},
   "cell_type": "markdown",
   "metadata": {},
   "source": [
    "Так как значение p_value < 0.05, то мы можем отвергнуть нулевую гипотезу, и сделать вывод, что ARPU в тестовой выборке больше, чем ARPU в контрольной."
   ]
  },
  {
   "attachments": {},
   "cell_type": "markdown",
   "metadata": {},
   "source": [
    "## Проверим ARPPU"
   ]
  },
  {
   "cell_type": "code",
   "execution_count": 37,
   "metadata": {},
   "outputs": [
    {
     "data": {
      "application/vnd.jupyter.widget-view+json": {
       "model_id": "0e8c00214b6b40fab38f62fbe0768bf4",
       "version_major": 2,
       "version_minor": 0
      },
      "text/plain": [
       "HBox(children=(FloatProgress(value=0.0, max=2000.0), HTML(value='')))"
      ]
     },
     "metadata": {},
     "output_type": "display_data"
    },
    {
     "name": "stdout",
     "output_type": "stream",
     "text": [
      "\n"
     ]
    },
    {
     "data": {
      "image/png": "[encoded data removed]",
      "text/plain": [
       "<Figure size 432x288 with 1 Axes>"
      ]
     },
     "metadata": {},
     "output_type": "display_data"
    },
    {
     "data": {
      "text/plain": [
       "3.140616093224576e-06"
      ]
     },
     "execution_count": 37,
     "metadata": {},
     "output_type": "execute_result"
    }
   ],
   "source": [
    "check_ARPPU = get_bootstrap(all.query('group == \"A\" and revenue > 0').revenue,all.query('group == \"B\" and revenue > 0').revenue, boot_it=2000, statistic = np.mean)\n",
    "check_ARPPU[\"p_value\"]"
   ]
  },
  {
   "attachments": {},
   "cell_type": "markdown",
   "metadata": {},
   "source": [
    "Видим аналогичную ситуацию. Вывод: ARPPU в тестовой выборке больше, чем ARPPU в контрольной"
   ]
  },
  {
   "attachments": {},
   "cell_type": "markdown",
   "metadata": {},
   "source": [
    "### Общие выводы:\n",
    "\n",
    "Мы сделали 2 проверки (Тест Манна Уитни и Бутстрап) и обе показали, что у нас есть положительные статистически значимые различия между тестовой и контрольной группой.\n",
    "\n",
    "Изменения можно выкатывать на все приложение."
   ]
  },
  {
   "cell_type": "code",
   "execution_count": 38,
   "metadata": {},
   "outputs": [],
   "source": [
    "# Задание 2 \n",
    "\n",
    "all.to_csv('all.csv')"
   ]
  },
  {
   "cell_type": "code",
   "execution_count": null,
   "metadata": {},
   "outputs": [],
   "source": [
    "# Ссылка на дашборд: \n",
    "# https://public.tableau.com/app/profile/alena8478/viz/Final_project_16581754012100/Dashboard1?publish=yes"
   ]
  }
 ],
 "metadata": {
  "kernelspec": {
   "display_name": "Python 3",
   "language": "python",
   "name": "python3"
  },
  "language_info": {
   "codemirror_mode": {
    "name": "ipython",
    "version": 3
   },
   "file_extension": ".py",
   "mimetype": "text/x-python",
   "name": "python",
   "nbconvert_exporter": "python",
   "pygments_lexer": "ipython3",
   "version": "3.10.11 (tags/v3.10.11:7d4cc5a, Apr  5 2023, 00:38:17) [MSC v.1929 64 bit (AMD64)]"
  },
  "vscode": {
   "interpreter": {
    "hash": "c4fbda408e5adeebc53a489fa2b201c833a8a35702b2761ad3f2b5e773786417"
   }
  }
 },
 "nbformat": 4,
 "nbformat_minor": 4
}
